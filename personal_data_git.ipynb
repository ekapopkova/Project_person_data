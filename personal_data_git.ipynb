{
 "cells": [
  {
   "cell_type": "markdown",
   "metadata": {
    "toc": true
   },
   "source": [
    "<h1>Содержание<span class=\"tocSkip\"></span></h1>\n",
    "<div class=\"toc\"><ul class=\"toc-item\"><li><span><a href=\"#Загрузка-данных\" data-toc-modified-id=\"Загрузка-данных-1\"><span class=\"toc-item-num\">1&nbsp;&nbsp;</span>Загрузка данных</a></span><ul class=\"toc-item\"><li><span><a href=\"#Напишем-функцию-для-получения-информации-о-датасете-(вывод-первых-пяти-срок,-общей-информации-методом-info(),-описания-информации-в-столбцах-методом-discribe(),-построение-гистограмм-для-визуализации-распределения-данных-в-столбцах),-наличия-явных-дубликатов,-построения-матрицы-корреляции-с-визуализацией-в-seaborn.\" data-toc-modified-id=\"Напишем-функцию-для-получения-информации-о-датасете-(вывод-первых-пяти-срок,-общей-информации-методом-info(),-описания-информации-в-столбцах-методом-discribe(),-построение-гистограмм-для-визуализации-распределения-данных-в-столбцах),-наличия-явных-дубликатов,-построения-матрицы-корреляции-с-визуализацией-в-seaborn.-1.1\"><span class=\"toc-item-num\">1.1&nbsp;&nbsp;</span>Напишем функцию для получения информации о датасете (вывод первых пяти срок, общей информации методом info(), описания информации в столбцах методом discribe(), построение гистограмм для визуализации распределения данных в столбцах), наличия явных дубликатов, построения матрицы корреляции с визуализацией в seaborn.</a></span></li><li><span><a href=\"#Cчитываем-данные-из-файла-,-сохраняем-его-в-переменной-df,-получаем-общую-информацию-о-датафрейме-с-помощью-функции-get_info()\" data-toc-modified-id=\"Cчитываем-данные-из-файла-,-сохраняем-его-в-переменной-df,-получаем-общую-информацию-о-датафрейме-с-помощью-функции-get_info()-1.2\"><span class=\"toc-item-num\">1.2&nbsp;&nbsp;</span>Cчитываем данные из файла , сохраняем его в переменной df, получаем общую информацию о датафрейме с помощью функции get_info()</a></span></li><li><span><a href=\"#Удаляем-дубликаты-методом-drop_duplicates()-с-удалением-старых-индексов-и-проверяем,-что-все-сделаkи-корректно.\" data-toc-modified-id=\"Удаляем-дубликаты-методом-drop_duplicates()-с-удалением-старых-индексов-и-проверяем,-что-все-сделаkи-корректно.-1.3\"><span class=\"toc-item-num\">1.3&nbsp;&nbsp;</span>Удаляем дубликаты методом drop_duplicates() с удалением старых индексов и проверяем, что все сделаkи корректно.</a></span></li><li><span><a href=\"#Меняем-тип-данных-в-столбце-возраст-и-зарплата-на-int.\" data-toc-modified-id=\"Меняем-тип-данных-в-столбце-возраст-и-зарплата-на-int.-1.4\"><span class=\"toc-item-num\">1.4&nbsp;&nbsp;</span>Меняем тип данных в столбце возраст и зарплата на int.</a></span></li></ul></li><li><span><a href=\"#Умножение-матриц\" data-toc-modified-id=\"Умножение-матриц-2\"><span class=\"toc-item-num\">2&nbsp;&nbsp;</span>Умножение матриц</a></span></li><li><span><a href=\"#Алгоритм-преобразования\" data-toc-modified-id=\"Алгоритм-преобразования-3\"><span class=\"toc-item-num\">3&nbsp;&nbsp;</span>Алгоритм преобразования</a></span></li><li><span><a href=\"#Проверка-алгоритма\" data-toc-modified-id=\"Проверка-алгоритма-4\"><span class=\"toc-item-num\">4&nbsp;&nbsp;</span>Проверка алгоритма</a></span><ul class=\"toc-item\"><li><span><a href=\"#Разбиваем-датасет-df-на-два-датасета-features-(датасет-с-признаками)-и-target-(датасет-со-значениями-целевого-признака)¶\" data-toc-modified-id=\"Разбиваем-датасет-df-на-два-датасета-features-(датасет-с-признаками)-и-target-(датасет-со-значениями-целевого-признака)¶-4.1\"><span class=\"toc-item-num\">4.1&nbsp;&nbsp;</span>Разбиваем датасет df на два датасета features (датасет с признаками) и target (датасет со значениями целевого признака)¶</a></span></li><li><span><a href=\"#Сначала-обучим-модель-линейной-регресии-на-непреобразованных-данных-и-посчитаем-метрику--r2-для-оценки-качества.\" data-toc-modified-id=\"Сначала-обучим-модель-линейной-регресии-на-непреобразованных-данных-и-посчитаем-метрику--r2-для-оценки-качества.-4.2\"><span class=\"toc-item-num\">4.2&nbsp;&nbsp;</span>Сначала обучим модель линейной регресии на непреобразованных данных и посчитаем метрику  r2 для оценки качества.</a></span><ul class=\"toc-item\"><li><span><a href=\"#Разбиваем-features-и-target-на-обучающую-и-тестовую-выборки-в-пропорции-75---25-с-помощью-train_test_split\" data-toc-modified-id=\"Разбиваем-features-и-target-на-обучающую-и-тестовую-выборки-в-пропорции-75---25-с-помощью-train_test_split-4.2.1\"><span class=\"toc-item-num\">4.2.1&nbsp;&nbsp;</span>Разбиваем features и target на обучающую и тестовую выборки в пропорции 75 - 25 с помощью train_test_split</a></span></li><li><span><a href=\"#Обучаем-модель-линейной-регресии-на-непреобразованных-данных-и-считаем-метрику-r2\" data-toc-modified-id=\"Обучаем-модель-линейной-регресии-на-непреобразованных-данных-и-считаем-метрику-r2-4.2.2\"><span class=\"toc-item-num\">4.2.2&nbsp;&nbsp;</span>Обучаем модель линейной регресии на непреобразованных данных и считаем метрику r2</a></span></li></ul></li><li><span><a href=\"#Теперь-обучим-модель-линейной-регресии-на-преобразованных-данных-и-посчитаем-метрику--r2-для-оценки-качества.\" data-toc-modified-id=\"Теперь-обучим-модель-линейной-регресии-на-преобразованных-данных-и-посчитаем-метрику--r2-для-оценки-качества.-4.3\"><span class=\"toc-item-num\">4.3&nbsp;&nbsp;</span>Теперь обучим модель линейной регресии на преобразованных данных и посчитаем метрику  r2 для оценки качества.</a></span><ul class=\"toc-item\"><li><span><a href=\"#Для-преобразования-данных-создаем-случайную-матрицу-размером-4-на-4-с-помощью-функции-np.random.normal()-и-проверяем-ее-на-обратимость-с-помощью-np.linalg.inv()\" data-toc-modified-id=\"Для-преобразования-данных-создаем-случайную-матрицу-размером-4-на-4-с-помощью-функции-np.random.normal()-и-проверяем-ее-на-обратимость-с-помощью-np.linalg.inv()-4.3.1\"><span class=\"toc-item-num\">4.3.1&nbsp;&nbsp;</span>Для преобразования данных создаем случайную матрицу размером 4 на 4 с помощью функции np.random.normal() и проверяем ее на обратимость с помощью np.linalg.inv()</a></span></li><li><span><a href=\"#Теперь-умножаем-features-на-обратимую-матрицу\" data-toc-modified-id=\"Теперь-умножаем-features-на-обратимую-матрицу-4.3.2\"><span class=\"toc-item-num\">4.3.2&nbsp;&nbsp;</span>Теперь умножаем features на обратимую матрицу</a></span></li><li><span><a href=\"#Разбиваем-features_transform-и-target-на-обучающую-и-тестовую-выборки-в-пропорции-75---25-с-помощью-train_test_split\" data-toc-modified-id=\"Разбиваем-features_transform-и-target-на-обучающую-и-тестовую-выборки-в-пропорции-75---25-с-помощью-train_test_split-4.3.3\"><span class=\"toc-item-num\">4.3.3&nbsp;&nbsp;</span>Разбиваем features_transform и target на обучающую и тестовую выборки в пропорции 75 - 25 с помощью train_test_split</a></span></li><li><span><a href=\"#Обучаем-модель-линейной-регресии-на-преобразованных-данных-и-считаем-метрику-r2\" data-toc-modified-id=\"Обучаем-модель-линейной-регресии-на-преобразованных-данных-и-считаем-метрику-r2-4.3.4\"><span class=\"toc-item-num\">4.3.4&nbsp;&nbsp;</span>Обучаем модель линейной регресии на преобразованных данных и считаем метрику r2</a></span></li></ul></li></ul></li><li><span><a href=\"#Чек-лист-проверки\" data-toc-modified-id=\"Чек-лист-проверки-5\"><span class=\"toc-item-num\">5&nbsp;&nbsp;</span>Чек-лист проверки</a></span></li></ul></div>"
   ]
  },
  {
   "cell_type": "markdown",
   "metadata": {},
   "source": [
    "# Защита персональных данных клиентов"
   ]
  },
  {
   "cell_type": "markdown",
   "metadata": {},
   "source": [
    "Вам нужно защитить данные клиентов страховой компании «Хоть потоп». Разработайте такой метод преобразования данных, чтобы по ним было сложно восстановить персональную информацию. Обоснуйте корректность его работы.\n",
    "\n",
    "Нужно защитить данные, чтобы при преобразовании качество моделей машинного обучения не ухудшилось. Подбирать наилучшую модель не требуется."
   ]
  },
  {
   "cell_type": "markdown",
   "metadata": {},
   "source": [
    "## Загрузка данных"
   ]
  },
  {
   "cell_type": "code",
   "execution_count": 1,
   "metadata": {},
   "outputs": [],
   "source": [
    "import pandas as pd\n",
    "import numpy as np\n",
    "\n",
    "import seaborn as sns\n",
    "import matplotlib.pyplot as plt\n",
    "\n",
    "from sklearn.model_selection import train_test_split\n",
    "from sklearn.linear_model import LinearRegression\n",
    "from sklearn.metrics import r2_score"
   ]
  },
  {
   "cell_type": "markdown",
   "metadata": {},
   "source": [
    "### Напишем функцию для получения информации о датасете (вывод первых пяти срок, общей информации методом info(), описания информации в столбцах методом discribe(), построение гистограмм для визуализации распределения данных в столбцах), наличия явных дубликатов, построения матрицы корреляции с визуализацией в seaborn."
   ]
  },
  {
   "cell_type": "code",
   "execution_count": 2,
   "metadata": {},
   "outputs": [],
   "source": [
    "def get_info(data):\n",
    "    display('Вывод первых 5-ти строк датасета', data.head())\n",
    "    display(data.info())\n",
    "    print('Количество явных дубликатов:', data.duplicated().sum())\n",
    "    display(data.describe())\n",
    "    data.hist(figsize=(8, 8));\n",
    "    fig, ax = plt.subplots(figsize=(8, 5))\n",
    "    sns.heatmap(data.corr(), annot = True, fmt='.2g', vmin=-1, vmax=1, center= 0, cmap= 'coolwarm', \n",
    "                annot_kws={\"fontsize\":8})"
   ]
  },
  {
   "cell_type": "markdown",
   "metadata": {},
   "source": [
    "### Cчитываем данные из файла , сохраняем его в переменной df, получаем общую информацию о датафрейме с помощью функции get_info()"
   ]
  },
  {
   "cell_type": "code",
   "execution_count": 3,
   "metadata": {
    "scrolled": true
   },
   "outputs": [
    {
     "data": {
      "text/plain": [
       "'Вывод первых 5-ти строк датасета'"
      ]
     },
     "metadata": {},
     "output_type": "display_data"
    },
    {
     "data": {
      "text/html": [
       "<div>\n",
       "<style scoped>\n",
       "    .dataframe tbody tr th:only-of-type {\n",
       "        vertical-align: middle;\n",
       "    }\n",
       "\n",
       "    .dataframe tbody tr th {\n",
       "        vertical-align: top;\n",
       "    }\n",
       "\n",
       "    .dataframe thead th {\n",
       "        text-align: right;\n",
       "    }\n",
       "</style>\n",
       "<table border=\"1\" class=\"dataframe\">\n",
       "  <thead>\n",
       "    <tr style=\"text-align: right;\">\n",
       "      <th></th>\n",
       "      <th>Пол</th>\n",
       "      <th>Возраст</th>\n",
       "      <th>Зарплата</th>\n",
       "      <th>Члены семьи</th>\n",
       "      <th>Страховые выплаты</th>\n",
       "    </tr>\n",
       "  </thead>\n",
       "  <tbody>\n",
       "    <tr>\n",
       "      <th>0</th>\n",
       "      <td>1</td>\n",
       "      <td>41.0</td>\n",
       "      <td>49600.0</td>\n",
       "      <td>1</td>\n",
       "      <td>0</td>\n",
       "    </tr>\n",
       "    <tr>\n",
       "      <th>1</th>\n",
       "      <td>0</td>\n",
       "      <td>46.0</td>\n",
       "      <td>38000.0</td>\n",
       "      <td>1</td>\n",
       "      <td>1</td>\n",
       "    </tr>\n",
       "    <tr>\n",
       "      <th>2</th>\n",
       "      <td>0</td>\n",
       "      <td>29.0</td>\n",
       "      <td>21000.0</td>\n",
       "      <td>0</td>\n",
       "      <td>0</td>\n",
       "    </tr>\n",
       "    <tr>\n",
       "      <th>3</th>\n",
       "      <td>0</td>\n",
       "      <td>21.0</td>\n",
       "      <td>41700.0</td>\n",
       "      <td>2</td>\n",
       "      <td>0</td>\n",
       "    </tr>\n",
       "    <tr>\n",
       "      <th>4</th>\n",
       "      <td>1</td>\n",
       "      <td>28.0</td>\n",
       "      <td>26100.0</td>\n",
       "      <td>0</td>\n",
       "      <td>0</td>\n",
       "    </tr>\n",
       "  </tbody>\n",
       "</table>\n",
       "</div>"
      ],
      "text/plain": [
       "   Пол  Возраст  Зарплата  Члены семьи  Страховые выплаты\n",
       "0    1     41.0   49600.0            1                  0\n",
       "1    0     46.0   38000.0            1                  1\n",
       "2    0     29.0   21000.0            0                  0\n",
       "3    0     21.0   41700.0            2                  0\n",
       "4    1     28.0   26100.0            0                  0"
      ]
     },
     "metadata": {},
     "output_type": "display_data"
    },
    {
     "name": "stdout",
     "output_type": "stream",
     "text": [
      "<class 'pandas.core.frame.DataFrame'>\n",
      "RangeIndex: 5000 entries, 0 to 4999\n",
      "Data columns (total 5 columns):\n",
      " #   Column             Non-Null Count  Dtype  \n",
      "---  ------             --------------  -----  \n",
      " 0   Пол                5000 non-null   int64  \n",
      " 1   Возраст            5000 non-null   float64\n",
      " 2   Зарплата           5000 non-null   float64\n",
      " 3   Члены семьи        5000 non-null   int64  \n",
      " 4   Страховые выплаты  5000 non-null   int64  \n",
      "dtypes: float64(2), int64(3)\n",
      "memory usage: 195.4 KB\n"
     ]
    },
    {
     "data": {
      "text/plain": [
       "None"
      ]
     },
     "metadata": {},
     "output_type": "display_data"
    },
    {
     "name": "stdout",
     "output_type": "stream",
     "text": [
      "Количество явных дубликатов: 153\n"
     ]
    },
    {
     "data": {
      "text/html": [
       "<div>\n",
       "<style scoped>\n",
       "    .dataframe tbody tr th:only-of-type {\n",
       "        vertical-align: middle;\n",
       "    }\n",
       "\n",
       "    .dataframe tbody tr th {\n",
       "        vertical-align: top;\n",
       "    }\n",
       "\n",
       "    .dataframe thead th {\n",
       "        text-align: right;\n",
       "    }\n",
       "</style>\n",
       "<table border=\"1\" class=\"dataframe\">\n",
       "  <thead>\n",
       "    <tr style=\"text-align: right;\">\n",
       "      <th></th>\n",
       "      <th>Пол</th>\n",
       "      <th>Возраст</th>\n",
       "      <th>Зарплата</th>\n",
       "      <th>Члены семьи</th>\n",
       "      <th>Страховые выплаты</th>\n",
       "    </tr>\n",
       "  </thead>\n",
       "  <tbody>\n",
       "    <tr>\n",
       "      <th>count</th>\n",
       "      <td>5000.000000</td>\n",
       "      <td>5000.000000</td>\n",
       "      <td>5000.000000</td>\n",
       "      <td>5000.000000</td>\n",
       "      <td>5000.000000</td>\n",
       "    </tr>\n",
       "    <tr>\n",
       "      <th>mean</th>\n",
       "      <td>0.499000</td>\n",
       "      <td>30.952800</td>\n",
       "      <td>39916.360000</td>\n",
       "      <td>1.194200</td>\n",
       "      <td>0.148000</td>\n",
       "    </tr>\n",
       "    <tr>\n",
       "      <th>std</th>\n",
       "      <td>0.500049</td>\n",
       "      <td>8.440807</td>\n",
       "      <td>9900.083569</td>\n",
       "      <td>1.091387</td>\n",
       "      <td>0.463183</td>\n",
       "    </tr>\n",
       "    <tr>\n",
       "      <th>min</th>\n",
       "      <td>0.000000</td>\n",
       "      <td>18.000000</td>\n",
       "      <td>5300.000000</td>\n",
       "      <td>0.000000</td>\n",
       "      <td>0.000000</td>\n",
       "    </tr>\n",
       "    <tr>\n",
       "      <th>25%</th>\n",
       "      <td>0.000000</td>\n",
       "      <td>24.000000</td>\n",
       "      <td>33300.000000</td>\n",
       "      <td>0.000000</td>\n",
       "      <td>0.000000</td>\n",
       "    </tr>\n",
       "    <tr>\n",
       "      <th>50%</th>\n",
       "      <td>0.000000</td>\n",
       "      <td>30.000000</td>\n",
       "      <td>40200.000000</td>\n",
       "      <td>1.000000</td>\n",
       "      <td>0.000000</td>\n",
       "    </tr>\n",
       "    <tr>\n",
       "      <th>75%</th>\n",
       "      <td>1.000000</td>\n",
       "      <td>37.000000</td>\n",
       "      <td>46600.000000</td>\n",
       "      <td>2.000000</td>\n",
       "      <td>0.000000</td>\n",
       "    </tr>\n",
       "    <tr>\n",
       "      <th>max</th>\n",
       "      <td>1.000000</td>\n",
       "      <td>65.000000</td>\n",
       "      <td>79000.000000</td>\n",
       "      <td>6.000000</td>\n",
       "      <td>5.000000</td>\n",
       "    </tr>\n",
       "  </tbody>\n",
       "</table>\n",
       "</div>"
      ],
      "text/plain": [
       "               Пол      Возраст      Зарплата  Члены семьи  Страховые выплаты\n",
       "count  5000.000000  5000.000000   5000.000000  5000.000000        5000.000000\n",
       "mean      0.499000    30.952800  39916.360000     1.194200           0.148000\n",
       "std       0.500049     8.440807   9900.083569     1.091387           0.463183\n",
       "min       0.000000    18.000000   5300.000000     0.000000           0.000000\n",
       "25%       0.000000    24.000000  33300.000000     0.000000           0.000000\n",
       "50%       0.000000    30.000000  40200.000000     1.000000           0.000000\n",
       "75%       1.000000    37.000000  46600.000000     2.000000           0.000000\n",
       "max       1.000000    65.000000  79000.000000     6.000000           5.000000"
      ]
     },
     "metadata": {},
     "output_type": "display_data"
    },
    {
     "data": {
      "image/png": "[encoded data removed]",
      "text/plain": [
       "<Figure size 576x576 with 6 Axes>"
      ]
     },
     "metadata": {
      "needs_background": "light"
     },
     "output_type": "display_data"
    },
    {
     "data": {
      "image/png": "[encoded data removed]",
      "text/plain": [
       "<Figure size 576x360 with 2 Axes>"
      ]
     },
     "metadata": {
      "needs_background": "light"
     },
     "output_type": "display_data"
    }
   ],
   "source": [
    "try:\n",
    "    df = pd.read_csv('/datasets/insurance.csv')\n",
    "except:\n",
    "    df = pd.read_csv('https://code.s3.yandex.net/datasets/insurance.csv')\n",
    "    \n",
    "get_info(df)"
   ]
  },
  {
   "cell_type": "markdown",
   "metadata": {},
   "source": [
    "**Вывод:**\n",
    "Из полученной инфоромации мы видем, что размер дата фрейиа - 5000 строк на 5 столбцов. Пропуски в столбцах отсутсвуют, но выявлено 153 полных дубликата - эти данные надо удалить. Также тип данныйх в столбце возраст и зарплата надо поменять на int, т.к. все числа целые. В целом распроеделение данных в столбцах выглядит логично. Из матрицы корреляции видно, что мультиколлинеарных признаков нет, наибольшая зависимость просматривается между количеством страховых случаев и возрастом, но она состовляет 0.65."
   ]
  },
  {
   "cell_type": "markdown",
   "metadata": {},
   "source": [
    "### Удаляем дубликаты методом drop_duplicates() с удалением старых индексов и проверяем, что все сделаkи корректно."
   ]
  },
  {
   "cell_type": "code",
   "execution_count": 4,
   "metadata": {},
   "outputs": [
    {
     "data": {
      "text/plain": [
       "4847"
      ]
     },
     "execution_count": 4,
     "metadata": {},
     "output_type": "execute_result"
    }
   ],
   "source": [
    "df= df.drop_duplicates().reset_index(drop=True)\n",
    "len(df)"
   ]
  },
  {
   "cell_type": "markdown",
   "metadata": {},
   "source": [
    "### Меняем тип данных в столбце возраст и зарплата на int."
   ]
  },
  {
   "cell_type": "code",
   "execution_count": 5,
   "metadata": {},
   "outputs": [
    {
     "name": "stdout",
     "output_type": "stream",
     "text": [
      "<class 'pandas.core.frame.DataFrame'>\n",
      "RangeIndex: 4847 entries, 0 to 4846\n",
      "Data columns (total 5 columns):\n",
      " #   Column             Non-Null Count  Dtype\n",
      "---  ------             --------------  -----\n",
      " 0   Пол                4847 non-null   int64\n",
      " 1   Возраст            4847 non-null   int64\n",
      " 2   Зарплата           4847 non-null   int64\n",
      " 3   Члены семьи        4847 non-null   int64\n",
      " 4   Страховые выплаты  4847 non-null   int64\n",
      "dtypes: int64(5)\n",
      "memory usage: 189.5 KB\n"
     ]
    }
   ],
   "source": [
    "df[['Возраст', 'Зарплата']] = df[['Возраст', 'Зарплата']].astype('int')\n",
    "df.info()"
   ]
  },
  {
   "cell_type": "markdown",
   "metadata": {},
   "source": [
    "**Итог:** Данные загрузили, полные дубликаты удалили, тип данных в столбцах возраст и зарплата поменяли на int."
   ]
  },
  {
   "cell_type": "markdown",
   "metadata": {},
   "source": [
    "## Умножение матриц"
   ]
  },
  {
   "cell_type": "markdown",
   "metadata": {},
   "source": [
    "В этом задании вы можете записывать формулы в *Jupyter Notebook.*\n",
    "\n",
    "Чтобы записать формулу внутри текста, окружите её символами доллара \\\\$; если снаружи —  двойными символами \\\\$\\\\$. Эти формулы записываются на языке вёрстки *LaTeX.* \n",
    "\n",
    "Для примера мы записали формулы линейной регрессии. Можете их скопировать и отредактировать, чтобы решить задачу.\n",
    "\n",
    "Работать в *LaTeX* необязательно."
   ]
  },
  {
   "cell_type": "markdown",
   "metadata": {},
   "source": [
    "Обозначения:\n",
    "\n",
    "- $X$ — матрица признаков (нулевой столбец состоит из единиц)\n",
    "\n",
    "- $y$ — вектор целевого признака\n",
    "\n",
    "- $P$ — матрица, на которую умножаются признаки\n",
    "\n",
    "- $w$ — вектор весов линейной регрессии (нулевой элемент равен сдвигу)"
   ]
  },
  {
   "cell_type": "markdown",
   "metadata": {},
   "source": [
    "Предсказания:\n",
    "\n",
    "$$\n",
    "a = Xw\n",
    "$$\n",
    "\n",
    "Задача обучения:\n",
    "\n",
    "$$\n",
    "w = \\arg\\min_w MSE(Xw, y)\n",
    "$$\n",
    "\n",
    "Формула обучения:\n",
    "\n",
    "$$\n",
    "w = (X^T X)^{-1} X^T y\n",
    "$$"
   ]
  },
  {
   "cell_type": "markdown",
   "metadata": {},
   "source": [
    "**Ответ:** Не изменится\n",
    "\n",
    "**Обоснование:** Допустим у нас есть марица признакои X размером n на m. Умножим данную матрицу на обратимую матрицу P размером m на m и посмотрим изменится ли от этого качество линейной регресии.\n",
    "\n",
    "Предсказания линейной регрессии расчитываются по формуле: \n",
    "$$\n",
    "a = Xw\n",
    "$$\n",
    "тогда предсказания линейной регрессии для матрицы умноженной на обратимую матрицу будут раситываться пол формуле:\n",
    "$$\n",
    "a1 = (XP)w1\n",
    "$$\n",
    "В свою очередь вектор весов линейной регрессии расчитывается по формуле:\n",
    "$$\n",
    "w = (X^T X)^{-1} X^T y\n",
    "$$\n",
    "Тогда в случае умножения матрицы на обратимую матрицу вектор весов линейной регрессии будем расчитывать по формуле:\n",
    "$$\n",
    "w1 = ((XP)^T (XP))^{-1} (XP)^T y\n",
    "$$\n",
    "$$\n",
    "a1 = (XP)((XP)^T (XP))^{-1} (XP)^T y\n",
    "$$\n",
    "Для раскрытия скобок воспользуемся свойством транспонирования произведения матриц:\n",
    "$$\n",
    "(AB)^T = B^T A^T\n",
    "$$\n",
    "$$\n",
    "a1 = (XP)(P^T X^T (XP))^{-1} P^T X^T y\n",
    "$$\n",
    "Далее мы воспользуемся следующими свойствами:\n",
    "Свойством произведения нескольких матриц:\n",
    "$$\n",
    "A(BC) = (AB)C \n",
    "$$\n",
    "Их данного свойства следует, что произведение нескольких матриц A, B , C , …, F , записанных в определенном порядке, от способа расстановки скобок не зависит. \n",
    "Свойством обратимых матриц:\n",
    "$$\n",
    "(AB)^{-1} = B^{-1}A^{-1}\n",
    "$$\n",
    "При расстановке скобок надо учесть, что обратную матрицу мы можем найти для квадратной матрицы, а умножать мы можем только если ширина матрицы, которую умножают, равна длине матрицы, на которую умножают.У нас есть следующие матрицы $P^T$ размером m на m, миатрица P размером m на m, матрица X размером n на m и матрица $X^T$ размером m на n. Группируем следующим образом - $((P^T X^T X) P)^{-1}$ и раскрываем скобки:\n",
    "$$\n",
    "a1 = XPP^{-1}(P^T X^T X)^{-1} P^T X^T y\n",
    "$$\n",
    "Далее действуем аналогично и групируем следующим образом $(P^T (X^T X))^{-1}$:\n",
    "$$\n",
    "a1 = XPP^{-1}(X^T X)^{-1}(P^T)^{-1} P^T X^T y\n",
    "$$\n",
    "Далее воспользуемся следующими сволйствами:\n",
    "$$\n",
    "AA^{-1} = A^{-1}A = E\n",
    "$$\n",
    "$$\n",
    "AE = EA = A\n",
    "$$\n",
    "Таким образом произведения следующих матриц $PP^{-1}$ и $(P^T)^{-1} P^T$ равны единичным матрицам\n",
    "$$\n",
    "a1 = XE(X^T X)^{-1}E X^T y = X(X^T X)^{-1} X^T y\n",
    "$$\n",
    "\n",
    "Обращаем внимание, что $(X^T X)^{-1} X^T y = w $, тогда получаем следующее:\n",
    "$$\n",
    "a1 = Xw = a\n",
    "$$\n",
    "\n",
    "Таким образом мы получили, что при умножении матрицы признаком на обратимую матрицу, мы получаем аналогичные предсказания, а следовательно качестволинейной регрессии не меняется."
   ]
  },
  {
   "cell_type": "markdown",
   "metadata": {},
   "source": [
    "## Алгоритм преобразования"
   ]
  },
  {
   "cell_type": "markdown",
   "metadata": {},
   "source": [
    "**Алгоритм**\n",
    "\n",
    "Чтобы защитить данные о клиентах, мы умножим матрицу признаков на обратимую матрицу. Для этого создаем случаqную матрицу P размером 4 на 4, т.к. ширина нашей матрици признаков равна 4. Затем проверяем обратима ли полученная нами матрица. Если матрица обратима умножаем на нее нашу матрицу признаков и получаем зашифрованные данные признаков."
   ]
  },
  {
   "cell_type": "markdown",
   "metadata": {},
   "source": [
    "**Обоснование**\n",
    "\n",
    "Обоснование приведено выше в разделе 2. Умножение матрицы признаков на обратимую матрицу не изменяет качество модели."
   ]
  },
  {
   "cell_type": "markdown",
   "metadata": {},
   "source": [
    "## Проверка алгоритма"
   ]
  },
  {
   "cell_type": "markdown",
   "metadata": {},
   "source": [
    "### Разбиваем датасет df на два датасета features (датасет с признаками) и target (датасет со значениями целевого признака)¶"
   ]
  },
  {
   "cell_type": "code",
   "execution_count": 6,
   "metadata": {},
   "outputs": [
    {
     "name": "stdout",
     "output_type": "stream",
     "text": [
      "(4847,)\n",
      "<class 'pandas.core.frame.DataFrame'>\n",
      "RangeIndex: 4847 entries, 0 to 4846\n",
      "Data columns (total 4 columns):\n",
      " #   Column       Non-Null Count  Dtype\n",
      "---  ------       --------------  -----\n",
      " 0   Пол          4847 non-null   int64\n",
      " 1   Возраст      4847 non-null   int64\n",
      " 2   Зарплата     4847 non-null   int64\n",
      " 3   Члены семьи  4847 non-null   int64\n",
      "dtypes: int64(4)\n",
      "memory usage: 151.6 KB\n"
     ]
    }
   ],
   "source": [
    "target = df['Страховые выплаты']\n",
    "features = df.drop(['Страховые выплаты'], axis=1)\n",
    "print(target.shape)\n",
    "features.info()"
   ]
  },
  {
   "cell_type": "markdown",
   "metadata": {},
   "source": [
    "### Сначала обучим модель линейной регресии на непреобразованных данных и посчитаем метрику  r2 для оценки качества."
   ]
  },
  {
   "cell_type": "markdown",
   "metadata": {},
   "source": [
    "#### Разбиваем features и target на обучающую и тестовую выборки в пропорции 75 - 25 с помощью train_test_split"
   ]
  },
  {
   "cell_type": "code",
   "execution_count": 7,
   "metadata": {},
   "outputs": [
    {
     "name": "stdout",
     "output_type": "stream",
     "text": [
      "(3635, 4)\n",
      "(3635,)\n",
      "(1212, 4)\n"
     ]
    },
    {
     "data": {
      "text/plain": [
       "(1212,)"
      ]
     },
     "execution_count": 7,
     "metadata": {},
     "output_type": "execute_result"
    }
   ],
   "source": [
    "features_train, features_test, target_train, target_test = train_test_split(features, target, test_size=0.25, \n",
    "                                                                              random_state=12345)\n",
    "print(features_train.shape)\n",
    "print(target_train.shape)\n",
    "print(features_test.shape)\n",
    "target_test.shape"
   ]
  },
  {
   "cell_type": "markdown",
   "metadata": {},
   "source": [
    "#### Обучаем модель линейной регресии на непреобразованных данных и считаем метрику r2"
   ]
  },
  {
   "cell_type": "code",
   "execution_count": 8,
   "metadata": {},
   "outputs": [
    {
     "data": {
      "text/plain": [
       "0.42307727615837565"
      ]
     },
     "execution_count": 8,
     "metadata": {},
     "output_type": "execute_result"
    }
   ],
   "source": [
    "model = LinearRegression()\n",
    "model.fit(features_train, target_train)\n",
    "predictions = model.predict(features_test)\n",
    "r2 = r2_score(target_test, predictions)\n",
    "r2"
   ]
  },
  {
   "cell_type": "markdown",
   "metadata": {},
   "source": [
    "### Теперь обучим модель линейной регресии на преобразованных данных и посчитаем метрику  r2 для оценки качества."
   ]
  },
  {
   "cell_type": "markdown",
   "metadata": {},
   "source": [
    "#### Для преобразования данных создаем случайную матрицу размером 4 на 4 с помощью функции np.random.normal() и проверяем ее на обратимость с помощью np.linalg.inv()"
   ]
  },
  {
   "cell_type": "code",
   "execution_count": 9,
   "metadata": {},
   "outputs": [
    {
     "data": {
      "text/plain": [
       "array([[ 5.0266871 ,  3.08020709,  2.10456056,  3.32481863],\n",
       "       [ 2.34720111,  1.69379402, -1.91582844,  7.07343051],\n",
       "       [ 7.43497364,  0.13847612, -0.42891063,  3.75655149],\n",
       "       [ 1.07441272,  7.01685972,  2.4416445 , -0.76220013]])"
      ]
     },
     "execution_count": 9,
     "metadata": {},
     "output_type": "execute_result"
    }
   ],
   "source": [
    "n = features.shape[1]\n",
    "P = np.random.normal(3, 2.7, size=(n, n))\n",
    "P\n",
    "                     "
   ]
  },
  {
   "cell_type": "code",
   "execution_count": 10,
   "metadata": {},
   "outputs": [
    {
     "data": {
      "text/plain": [
       "array([[-0.07085201, -0.06676644,  0.1972185 ,  0.0433267 ],\n",
       "       [-0.15571866,  0.06384117,  0.05704206,  0.19433379],\n",
       "       [ 0.54362897, -0.11776988, -0.30084169, -0.20427265],\n",
       "       [ 0.20804037,  0.11634434, -0.16058545, -0.11623911]])"
      ]
     },
     "execution_count": 10,
     "metadata": {},
     "output_type": "execute_result"
    }
   ],
   "source": [
    "P1 = np.linalg.inv(P)\n",
    "P1"
   ]
  },
  {
   "cell_type": "markdown",
   "metadata": {},
   "source": [
    "**Вывод:** Так как мы смогли получить обратную матрицу для матрицы P, означает, что матрица P обратима, следовательно мы можем матрицу признаков умножить на матрицу P. "
   ]
  },
  {
   "cell_type": "markdown",
   "metadata": {},
   "source": [
    "#### Теперь умножаем features на обратимую матрицу"
   ]
  },
  {
   "cell_type": "code",
   "execution_count": 11,
   "metadata": {},
   "outputs": [
    {
     "data": {
      "text/html": [
       "<div>\n",
       "<style scoped>\n",
       "    .dataframe tbody tr th:only-of-type {\n",
       "        vertical-align: middle;\n",
       "    }\n",
       "\n",
       "    .dataframe tbody tr th {\n",
       "        vertical-align: top;\n",
       "    }\n",
       "\n",
       "    .dataframe thead th {\n",
       "        text-align: right;\n",
       "    }\n",
       "</style>\n",
       "<table border=\"1\" class=\"dataframe\">\n",
       "  <thead>\n",
       "    <tr style=\"text-align: right;\">\n",
       "      <th></th>\n",
       "      <th>Пол</th>\n",
       "      <th>Возраст</th>\n",
       "      <th>Зарплата</th>\n",
       "      <th>Члены семьи</th>\n",
       "    </tr>\n",
       "  </thead>\n",
       "  <tbody>\n",
       "    <tr>\n",
       "      <th>0</th>\n",
       "      <td>1</td>\n",
       "      <td>41</td>\n",
       "      <td>49600</td>\n",
       "      <td>1</td>\n",
       "    </tr>\n",
       "    <tr>\n",
       "      <th>1</th>\n",
       "      <td>0</td>\n",
       "      <td>46</td>\n",
       "      <td>38000</td>\n",
       "      <td>1</td>\n",
       "    </tr>\n",
       "    <tr>\n",
       "      <th>2</th>\n",
       "      <td>0</td>\n",
       "      <td>29</td>\n",
       "      <td>21000</td>\n",
       "      <td>0</td>\n",
       "    </tr>\n",
       "    <tr>\n",
       "      <th>3</th>\n",
       "      <td>0</td>\n",
       "      <td>21</td>\n",
       "      <td>41700</td>\n",
       "      <td>2</td>\n",
       "    </tr>\n",
       "    <tr>\n",
       "      <th>4</th>\n",
       "      <td>1</td>\n",
       "      <td>28</td>\n",
       "      <td>26100</td>\n",
       "      <td>0</td>\n",
       "    </tr>\n",
       "    <tr>\n",
       "      <th>...</th>\n",
       "      <td>...</td>\n",
       "      <td>...</td>\n",
       "      <td>...</td>\n",
       "      <td>...</td>\n",
       "    </tr>\n",
       "    <tr>\n",
       "      <th>4842</th>\n",
       "      <td>0</td>\n",
       "      <td>28</td>\n",
       "      <td>35700</td>\n",
       "      <td>2</td>\n",
       "    </tr>\n",
       "    <tr>\n",
       "      <th>4843</th>\n",
       "      <td>0</td>\n",
       "      <td>34</td>\n",
       "      <td>52400</td>\n",
       "      <td>1</td>\n",
       "    </tr>\n",
       "    <tr>\n",
       "      <th>4844</th>\n",
       "      <td>0</td>\n",
       "      <td>20</td>\n",
       "      <td>33900</td>\n",
       "      <td>2</td>\n",
       "    </tr>\n",
       "    <tr>\n",
       "      <th>4845</th>\n",
       "      <td>1</td>\n",
       "      <td>22</td>\n",
       "      <td>32700</td>\n",
       "      <td>3</td>\n",
       "    </tr>\n",
       "    <tr>\n",
       "      <th>4846</th>\n",
       "      <td>1</td>\n",
       "      <td>28</td>\n",
       "      <td>40600</td>\n",
       "      <td>1</td>\n",
       "    </tr>\n",
       "  </tbody>\n",
       "</table>\n",
       "<p>4847 rows × 4 columns</p>\n",
       "</div>"
      ],
      "text/plain": [
       "      Пол  Возраст  Зарплата  Члены семьи\n",
       "0       1       41     49600            1\n",
       "1       0       46     38000            1\n",
       "2       0       29     21000            0\n",
       "3       0       21     41700            2\n",
       "4       1       28     26100            0\n",
       "...   ...      ...       ...          ...\n",
       "4842    0       28     35700            2\n",
       "4843    0       34     52400            1\n",
       "4844    0       20     33900            2\n",
       "4845    1       22     32700            3\n",
       "4846    1       28     40600            1\n",
       "\n",
       "[4847 rows x 4 columns]"
      ]
     },
     "metadata": {},
     "output_type": "display_data"
    },
    {
     "data": {
      "text/html": [
       "<div>\n",
       "<style scoped>\n",
       "    .dataframe tbody tr th:only-of-type {\n",
       "        vertical-align: middle;\n",
       "    }\n",
       "\n",
       "    .dataframe tbody tr th {\n",
       "        vertical-align: top;\n",
       "    }\n",
       "\n",
       "    .dataframe thead th {\n",
       "        text-align: right;\n",
       "    }\n",
       "</style>\n",
       "<table border=\"1\" class=\"dataframe\">\n",
       "  <thead>\n",
       "    <tr style=\"text-align: right;\">\n",
       "      <th></th>\n",
       "      <th>0</th>\n",
       "      <th>1</th>\n",
       "      <th>2</th>\n",
       "      <th>3</th>\n",
       "    </tr>\n",
       "  </thead>\n",
       "  <tbody>\n",
       "    <tr>\n",
       "      <th>0</th>\n",
       "      <td>368877.028814</td>\n",
       "      <td>6947.958233</td>\n",
       "      <td>-21347.969901</td>\n",
       "      <td>186617.527291</td>\n",
       "    </tr>\n",
       "    <tr>\n",
       "      <th>1</th>\n",
       "      <td>282638.043926</td>\n",
       "      <td>5347.023990</td>\n",
       "      <td>-16384.290321</td>\n",
       "      <td>143073.572313</td>\n",
       "    </tr>\n",
       "    <tr>\n",
       "      <th>2</th>\n",
       "      <td>156202.515240</td>\n",
       "      <td>2957.118572</td>\n",
       "      <td>-9062.682209</td>\n",
       "      <td>79092.710824</td>\n",
       "    </tr>\n",
       "    <tr>\n",
       "      <th>3</th>\n",
       "      <td>310089.840773</td>\n",
       "      <td>5824.057648</td>\n",
       "      <td>-17920.922288</td>\n",
       "      <td>156795.214872</td>\n",
       "    </tr>\n",
       "    <tr>\n",
       "      <th>4</th>\n",
       "      <td>194123.560282</td>\n",
       "      <td>3664.733203</td>\n",
       "      <td>-11246.106022</td>\n",
       "      <td>98247.374824</td>\n",
       "    </tr>\n",
       "    <tr>\n",
       "      <th>...</th>\n",
       "      <td>...</td>\n",
       "      <td>...</td>\n",
       "      <td>...</td>\n",
       "      <td>...</td>\n",
       "    </tr>\n",
       "    <tr>\n",
       "      <th>4842</th>\n",
       "      <td>265496.429350</td>\n",
       "      <td>5005.057479</td>\n",
       "      <td>-15360.869320</td>\n",
       "      <td>134305.419931</td>\n",
       "    </tr>\n",
       "    <tr>\n",
       "      <th>4843</th>\n",
       "      <td>389673.497906</td>\n",
       "      <td>7320.754607</td>\n",
       "      <td>-22537.613420</td>\n",
       "      <td>197083.032637</td>\n",
       "    </tr>\n",
       "    <tr>\n",
       "      <th>4844</th>\n",
       "      <td>252094.699192</td>\n",
       "      <td>4742.250108</td>\n",
       "      <td>-14573.503563</td>\n",
       "      <td>127487.039801</td>\n",
       "    </tr>\n",
       "    <tr>\n",
       "      <th>4845</th>\n",
       "      <td>243183.526328</td>\n",
       "      <td>4589.563418</td>\n",
       "      <td>-14058.096261</td>\n",
       "      <td>122995.887490</td>\n",
       "    </tr>\n",
       "    <tr>\n",
       "      <th>4846</th>\n",
       "      <td>301931.752453</td>\n",
       "      <td>5679.653820</td>\n",
       "      <td>-17462.868480</td>\n",
       "      <td>152716.609263</td>\n",
       "    </tr>\n",
       "  </tbody>\n",
       "</table>\n",
       "<p>4847 rows × 4 columns</p>\n",
       "</div>"
      ],
      "text/plain": [
       "                  0            1             2              3\n",
       "0     368877.028814  6947.958233 -21347.969901  186617.527291\n",
       "1     282638.043926  5347.023990 -16384.290321  143073.572313\n",
       "2     156202.515240  2957.118572  -9062.682209   79092.710824\n",
       "3     310089.840773  5824.057648 -17920.922288  156795.214872\n",
       "4     194123.560282  3664.733203 -11246.106022   98247.374824\n",
       "...             ...          ...           ...            ...\n",
       "4842  265496.429350  5005.057479 -15360.869320  134305.419931\n",
       "4843  389673.497906  7320.754607 -22537.613420  197083.032637\n",
       "4844  252094.699192  4742.250108 -14573.503563  127487.039801\n",
       "4845  243183.526328  4589.563418 -14058.096261  122995.887490\n",
       "4846  301931.752453  5679.653820 -17462.868480  152716.609263\n",
       "\n",
       "[4847 rows x 4 columns]"
      ]
     },
     "execution_count": 11,
     "metadata": {},
     "output_type": "execute_result"
    }
   ],
   "source": [
    "features_transform = features@P\n",
    "display(features)\n",
    "features_transform"
   ]
  },
  {
   "cell_type": "markdown",
   "metadata": {},
   "source": [
    "После умножения матрицы с признаками на обратимую матрицу, мы видим, что данные отличаются, понять их уже сложно."
   ]
  },
  {
   "cell_type": "markdown",
   "metadata": {},
   "source": [
    "#### Разбиваем features_transform и target на обучающую и тестовую выборки в пропорции 75 - 25 с помощью train_test_split"
   ]
  },
  {
   "cell_type": "code",
   "execution_count": 12,
   "metadata": {},
   "outputs": [
    {
     "name": "stdout",
     "output_type": "stream",
     "text": [
      "(3635, 4)\n",
      "(3635,)\n",
      "(1212, 4)\n"
     ]
    },
    {
     "data": {
      "text/plain": [
       "(1212,)"
      ]
     },
     "execution_count": 12,
     "metadata": {},
     "output_type": "execute_result"
    }
   ],
   "source": [
    "features_transform_train, features_transform_test, target_train, target_test = train_test_split(features, target, test_size=0.25, \n",
    "                                                                              random_state=12345)\n",
    "print(features_transform_train.shape)\n",
    "print(target_train.shape)\n",
    "print(features_transform_test.shape)\n",
    "target_test.shape"
   ]
  },
  {
   "cell_type": "markdown",
   "metadata": {},
   "source": [
    "#### Обучаем модель линейной регресии на преобразованных данных и считаем метрику r2"
   ]
  },
  {
   "cell_type": "code",
   "execution_count": 13,
   "metadata": {},
   "outputs": [
    {
     "data": {
      "text/plain": [
       "0.42307727615837565"
      ]
     },
     "execution_count": 13,
     "metadata": {},
     "output_type": "execute_result"
    }
   ],
   "source": [
    "model = LinearRegression()\n",
    "model.fit(features_transform_train, target_train)\n",
    "predictions_tr = model.predict(features_transform_test)\n",
    "r2_tr = r2_score(target_test, predictions_tr)\n",
    "r2_tr"
   ]
  },
  {
   "cell_type": "code",
   "execution_count": 14,
   "metadata": {},
   "outputs": [
    {
     "name": "stdout",
     "output_type": "stream",
     "text": [
      "Метрика r2 (данные без преобразования) 0.42307727615837565\n",
      "Метрика r2 (данные после преобразования) 0.42307727615837565\n"
     ]
    }
   ],
   "source": [
    "print('Метрика r2 (данные без преобразования)', r2)\n",
    "print('Метрика r2 (данные после преобразования)', r2_tr)"
   ]
  },
  {
   "cell_type": "markdown",
   "metadata": {},
   "source": [
    "**Вывод:** Заначения метрик r2 модели логистической регресии расчитанной на непреобразованных данных и преобразованных данных совпадают, т.е. качество модели остается неизменным."
   ]
  },
  {
   "cell_type": "markdown",
   "metadata": {},
   "source": [
    "**Итоговый вывод:**\n",
    "\n",
    "Перед нами стояла задача защитить данные клиентов страховой компании «Хоть потоп», разработав такой метод преобразования данных, чтобы по ним было сложно восстановить персональную информацию. Также надо было убедиться, что при этом качество работы модели машинного обучения не ухудшилось.\n",
    "\n",
    "В процессе работы бало сделано следующее:\n",
    "\n",
    "1. Данные загрузили и изучили, полные дубликаты удалили, тип данных в столбцах возраст и зарплата поменяли на int.\n",
    "\n",
    "2. Применили следующий алгоритм преобразования данных - умножении матрицы признаков на обратимую матрицу, сгенерированную случайным образом. \n",
    "\n",
    "3. Доказали возможность применения данного алгоритма без ухудшения показателей качества машинного обучения, исходя из формулы предсказаний линейной регресии. Также проверили это на практике, обучив модель линейной регресии и получив предсказания, а также оценив метрику r 2 на изначальных и преобразованных данных. Метрика r2 в обоих случая оказалась одинаковой:\n",
    "\n",
    "Метрика r2 (данные без преобразования) 0.42307727615837565\n",
    "\n",
    "Метрика r2 (данные после преобразования) 0.42307727615837565"
   ]
  }
 ],
 "metadata": {
  "ExecuteTimeLog": [
   {
    "duration": 1900,
    "start_time": "2023-09-11T09:59:58.570Z"
   },
   {
    "duration": 7,
    "start_time": "2023-09-11T10:04:02.654Z"
   },
   {
    "duration": 116,
    "start_time": "2023-09-11T10:06:07.816Z"
   },
   {
    "duration": 98,
    "start_time": "2023-09-11T10:06:21.975Z"
   },
   {
    "duration": 1096,
    "start_time": "2023-09-11T10:06:46.808Z"
   },
   {
    "duration": 4,
    "start_time": "2023-09-11T10:08:57.168Z"
   },
   {
    "duration": 1132,
    "start_time": "2023-09-11T10:08:58.713Z"
   },
   {
    "duration": 8,
    "start_time": "2023-09-11T10:31:45.601Z"
   },
   {
    "duration": 12,
    "start_time": "2023-09-11T10:32:14.296Z"
   },
   {
    "duration": 8,
    "start_time": "2023-09-11T10:32:27.958Z"
   },
   {
    "duration": 1821,
    "start_time": "2023-09-11T10:35:53.379Z"
   },
   {
    "duration": 18,
    "start_time": "2023-09-11T10:36:21.927Z"
   },
   {
    "duration": 4,
    "start_time": "2023-09-11T10:36:49.140Z"
   },
   {
    "duration": 9,
    "start_time": "2023-09-11T10:36:59.618Z"
   },
   {
    "duration": 12,
    "start_time": "2023-09-11T10:37:13.446Z"
   },
   {
    "duration": 73,
    "start_time": "2023-09-11T10:39:30.390Z"
   },
   {
    "duration": 13,
    "start_time": "2023-09-11T10:39:44.251Z"
   },
   {
    "duration": 4,
    "start_time": "2023-09-11T10:48:36.516Z"
   },
   {
    "duration": 1918,
    "start_time": "2023-09-12T09:29:26.249Z"
   },
   {
    "duration": 4,
    "start_time": "2023-09-12T09:29:28.171Z"
   },
   {
    "duration": 1321,
    "start_time": "2023-09-12T09:29:28.177Z"
   },
   {
    "duration": 7,
    "start_time": "2023-09-12T09:29:29.500Z"
   },
   {
    "duration": 55,
    "start_time": "2023-09-12T09:29:29.510Z"
   },
   {
    "duration": 125,
    "start_time": "2023-09-12T09:35:59.541Z"
   },
   {
    "duration": 12,
    "start_time": "2023-09-12T09:36:26.984Z"
   },
   {
    "duration": 11,
    "start_time": "2023-09-12T10:02:13.787Z"
   },
   {
    "duration": 13,
    "start_time": "2023-09-12T10:02:24.070Z"
   },
   {
    "duration": 8,
    "start_time": "2023-09-12T10:02:44.723Z"
   },
   {
    "duration": 9,
    "start_time": "2023-09-12T10:03:12.675Z"
   },
   {
    "duration": 10,
    "start_time": "2023-09-12T10:12:24.050Z"
   },
   {
    "duration": 4,
    "start_time": "2023-09-12T10:12:34.190Z"
   },
   {
    "duration": 322,
    "start_time": "2023-09-12T10:14:03.726Z"
   },
   {
    "duration": 187,
    "start_time": "2023-09-12T10:14:25.878Z"
   },
   {
    "duration": 272,
    "start_time": "2023-09-12T10:14:33.735Z"
   },
   {
    "duration": 5,
    "start_time": "2023-09-12T10:14:40.178Z"
   },
   {
    "duration": 4,
    "start_time": "2023-09-12T10:17:18.094Z"
   },
   {
    "duration": 9,
    "start_time": "2023-09-12T10:17:26.577Z"
   },
   {
    "duration": 3,
    "start_time": "2023-09-12T10:17:51.648Z"
   },
   {
    "duration": 5,
    "start_time": "2023-09-12T10:17:59.710Z"
   },
   {
    "duration": 5,
    "start_time": "2023-09-12T10:21:34.391Z"
   },
   {
    "duration": 6,
    "start_time": "2023-09-12T10:21:45.437Z"
   },
   {
    "duration": 4,
    "start_time": "2023-09-12T10:21:47.775Z"
   },
   {
    "duration": 6,
    "start_time": "2023-09-12T10:22:15.835Z"
   },
   {
    "duration": 8,
    "start_time": "2023-09-12T10:22:20.293Z"
   },
   {
    "duration": 12,
    "start_time": "2023-09-12T10:24:41.373Z"
   },
   {
    "duration": 5,
    "start_time": "2023-09-12T10:25:37.937Z"
   },
   {
    "duration": 5,
    "start_time": "2023-09-12T10:28:48.432Z"
   },
   {
    "duration": 5,
    "start_time": "2023-09-12T10:28:50.682Z"
   },
   {
    "duration": 4,
    "start_time": "2023-09-12T10:29:10.036Z"
   },
   {
    "duration": 6,
    "start_time": "2023-09-12T10:29:38.819Z"
   },
   {
    "duration": 6,
    "start_time": "2023-09-12T10:29:41.803Z"
   },
   {
    "duration": 4,
    "start_time": "2023-09-12T10:29:44.013Z"
   },
   {
    "duration": 12,
    "start_time": "2023-09-12T10:32:43.760Z"
   },
   {
    "duration": 3,
    "start_time": "2023-09-12T10:33:07.343Z"
   },
   {
    "duration": 11,
    "start_time": "2023-09-12T10:34:34.138Z"
   },
   {
    "duration": 11,
    "start_time": "2023-09-12T10:36:48.737Z"
   },
   {
    "duration": 9,
    "start_time": "2023-09-12T10:37:06.841Z"
   },
   {
    "duration": 4,
    "start_time": "2023-09-12T10:40:24.183Z"
   },
   {
    "duration": 12,
    "start_time": "2023-09-12T10:40:34.821Z"
   },
   {
    "duration": 411,
    "start_time": "2023-09-12T10:46:19.993Z"
   },
   {
    "duration": 223,
    "start_time": "2023-09-12T10:46:22.686Z"
   },
   {
    "duration": 16,
    "start_time": "2023-09-12T10:48:27.038Z"
   },
   {
    "duration": 8,
    "start_time": "2023-09-12T10:48:35.615Z"
   },
   {
    "duration": 12,
    "start_time": "2023-09-12T10:49:46.000Z"
   },
   {
    "duration": 1582,
    "start_time": "2023-09-12T10:50:02.667Z"
   },
   {
    "duration": 6,
    "start_time": "2023-09-12T10:50:04.253Z"
   },
   {
    "duration": 1057,
    "start_time": "2023-09-12T10:50:04.260Z"
   },
   {
    "duration": 11,
    "start_time": "2023-09-12T10:50:05.319Z"
   },
   {
    "duration": 17,
    "start_time": "2023-09-12T10:50:05.332Z"
   },
   {
    "duration": 11,
    "start_time": "2023-09-12T10:50:05.352Z"
   },
   {
    "duration": 9,
    "start_time": "2023-09-12T10:50:05.366Z"
   },
   {
    "duration": 52,
    "start_time": "2023-09-12T10:50:05.378Z"
   },
   {
    "duration": 6,
    "start_time": "2023-09-12T10:50:05.433Z"
   },
   {
    "duration": 10,
    "start_time": "2023-09-12T10:50:05.441Z"
   },
   {
    "duration": 78,
    "start_time": "2023-09-12T10:50:05.454Z"
   },
   {
    "duration": 98,
    "start_time": "2023-09-12T10:50:05.534Z"
   },
   {
    "duration": 13,
    "start_time": "2023-09-12T10:50:05.634Z"
   },
   {
    "duration": 9,
    "start_time": "2023-09-12T10:51:02.378Z"
   },
   {
    "duration": 9,
    "start_time": "2023-09-12T10:51:31.898Z"
   },
   {
    "duration": 12,
    "start_time": "2023-09-12T10:51:40.107Z"
   },
   {
    "duration": 1657,
    "start_time": "2023-09-12T10:53:34.261Z"
   },
   {
    "duration": 16,
    "start_time": "2023-09-12T10:53:35.921Z"
   },
   {
    "duration": 1206,
    "start_time": "2023-09-12T10:53:35.939Z"
   },
   {
    "duration": 7,
    "start_time": "2023-09-12T10:53:37.149Z"
   },
   {
    "duration": 46,
    "start_time": "2023-09-12T10:53:37.158Z"
   },
   {
    "duration": 18,
    "start_time": "2023-09-12T10:53:37.207Z"
   },
   {
    "duration": 19,
    "start_time": "2023-09-12T10:53:37.227Z"
   },
   {
    "duration": 13,
    "start_time": "2023-09-12T10:53:37.248Z"
   },
   {
    "duration": 6,
    "start_time": "2023-09-12T10:53:37.263Z"
   },
   {
    "duration": 13,
    "start_time": "2023-09-12T10:53:37.272Z"
   },
   {
    "duration": 137,
    "start_time": "2023-09-12T10:53:37.287Z"
   },
   {
    "duration": 14,
    "start_time": "2023-09-12T10:53:37.426Z"
   },
   {
    "duration": 11,
    "start_time": "2023-09-12T10:53:37.442Z"
   },
   {
    "duration": 16,
    "start_time": "2023-09-12T11:02:42.773Z"
   },
   {
    "duration": 16,
    "start_time": "2023-09-12T11:03:44.631Z"
   },
   {
    "duration": 18,
    "start_time": "2023-09-12T11:04:17.345Z"
   },
   {
    "duration": 5,
    "start_time": "2023-09-12T11:13:42.479Z"
   },
   {
    "duration": 8,
    "start_time": "2023-09-12T11:14:46.703Z"
   },
   {
    "duration": 6,
    "start_time": "2023-09-12T11:14:50.179Z"
   },
   {
    "duration": 5,
    "start_time": "2023-09-12T11:15:34.689Z"
   },
   {
    "duration": 5,
    "start_time": "2023-09-12T11:15:53.038Z"
   },
   {
    "duration": 5,
    "start_time": "2023-09-12T11:18:13.470Z"
   },
   {
    "duration": 7,
    "start_time": "2023-09-12T11:18:15.708Z"
   },
   {
    "duration": 20,
    "start_time": "2023-09-12T11:18:21.787Z"
   },
   {
    "duration": 25,
    "start_time": "2023-09-12T11:18:56.897Z"
   },
   {
    "duration": 1702,
    "start_time": "2023-09-12T11:19:19.544Z"
   },
   {
    "duration": 5,
    "start_time": "2023-09-12T11:19:21.250Z"
   },
   {
    "duration": 1340,
    "start_time": "2023-09-12T11:19:21.256Z"
   },
   {
    "duration": 6,
    "start_time": "2023-09-12T11:19:22.598Z"
   },
   {
    "duration": 35,
    "start_time": "2023-09-12T11:19:22.607Z"
   },
   {
    "duration": 31,
    "start_time": "2023-09-12T11:19:22.644Z"
   },
   {
    "duration": 23,
    "start_time": "2023-09-12T11:19:22.677Z"
   },
   {
    "duration": 26,
    "start_time": "2023-09-12T11:19:22.702Z"
   },
   {
    "duration": 23,
    "start_time": "2023-09-12T11:19:22.731Z"
   },
   {
    "duration": 33,
    "start_time": "2023-09-12T11:19:22.757Z"
   },
   {
    "duration": 134,
    "start_time": "2023-09-12T11:19:22.793Z"
   },
   {
    "duration": 43,
    "start_time": "2023-09-12T11:19:22.929Z"
   },
   {
    "duration": 36,
    "start_time": "2023-09-12T11:19:22.974Z"
   },
   {
    "duration": 263,
    "start_time": "2023-09-12T11:19:23.015Z"
   },
   {
    "duration": 4,
    "start_time": "2023-09-12T11:20:58.386Z"
   },
   {
    "duration": 12,
    "start_time": "2023-09-12T11:26:39.148Z"
   },
   {
    "duration": 3,
    "start_time": "2023-09-12T11:28:48.824Z"
   },
   {
    "duration": 4,
    "start_time": "2023-09-12T11:29:21.472Z"
   },
   {
    "duration": 1653,
    "start_time": "2023-09-12T11:29:50.913Z"
   },
   {
    "duration": 5,
    "start_time": "2023-09-12T11:29:52.571Z"
   },
   {
    "duration": 1180,
    "start_time": "2023-09-12T11:29:52.578Z"
   },
   {
    "duration": 8,
    "start_time": "2023-09-12T11:29:53.761Z"
   },
   {
    "duration": 61,
    "start_time": "2023-09-12T11:29:53.771Z"
   },
   {
    "duration": 210,
    "start_time": "2023-09-12T11:29:53.834Z"
   },
   {
    "duration": 30,
    "start_time": "2023-09-12T11:29:54.046Z"
   },
   {
    "duration": 17,
    "start_time": "2023-09-12T11:29:54.078Z"
   },
   {
    "duration": 27,
    "start_time": "2023-09-12T11:29:54.097Z"
   },
   {
    "duration": 34,
    "start_time": "2023-09-12T11:29:54.128Z"
   },
   {
    "duration": 80,
    "start_time": "2023-09-12T11:29:54.165Z"
   },
   {
    "duration": 10,
    "start_time": "2023-09-12T11:29:54.323Z"
   },
   {
    "duration": 20,
    "start_time": "2023-09-12T11:29:54.335Z"
   },
   {
    "duration": 25,
    "start_time": "2023-09-12T11:29:54.357Z"
   },
   {
    "duration": 1700,
    "start_time": "2023-09-12T17:11:11.023Z"
   },
   {
    "duration": 6,
    "start_time": "2023-09-12T17:11:12.726Z"
   },
   {
    "duration": 1169,
    "start_time": "2023-09-12T17:11:12.733Z"
   },
   {
    "duration": 8,
    "start_time": "2023-09-12T17:11:13.905Z"
   },
   {
    "duration": 62,
    "start_time": "2023-09-12T17:11:13.915Z"
   },
   {
    "duration": 30,
    "start_time": "2023-09-12T17:11:13.979Z"
   },
   {
    "duration": 28,
    "start_time": "2023-09-12T17:11:14.011Z"
   },
   {
    "duration": 41,
    "start_time": "2023-09-12T17:11:14.041Z"
   },
   {
    "duration": 102,
    "start_time": "2023-09-12T17:11:14.085Z"
   },
   {
    "duration": 44,
    "start_time": "2023-09-12T17:11:14.189Z"
   },
   {
    "duration": 150,
    "start_time": "2023-09-12T17:11:14.235Z"
   },
   {
    "duration": 10,
    "start_time": "2023-09-12T17:11:14.386Z"
   },
   {
    "duration": 61,
    "start_time": "2023-09-12T17:11:14.398Z"
   },
   {
    "duration": 29,
    "start_time": "2023-09-12T17:11:14.461Z"
   },
   {
    "duration": 1575,
    "start_time": "2023-09-12T17:14:34.086Z"
   },
   {
    "duration": 5,
    "start_time": "2023-09-12T17:14:35.663Z"
   },
   {
    "duration": 1093,
    "start_time": "2023-09-12T17:14:35.670Z"
   },
   {
    "duration": 18,
    "start_time": "2023-09-12T17:14:36.766Z"
   },
   {
    "duration": 17,
    "start_time": "2023-09-12T17:14:36.786Z"
   },
   {
    "duration": 15,
    "start_time": "2023-09-12T17:14:36.806Z"
   },
   {
    "duration": 9,
    "start_time": "2023-09-12T17:14:36.824Z"
   },
   {
    "duration": 48,
    "start_time": "2023-09-12T17:14:36.835Z"
   },
   {
    "duration": 5,
    "start_time": "2023-09-12T17:14:36.885Z"
   },
   {
    "duration": 6,
    "start_time": "2023-09-12T17:14:36.892Z"
   },
   {
    "duration": 91,
    "start_time": "2023-09-12T17:14:36.900Z"
   },
   {
    "duration": 8,
    "start_time": "2023-09-12T17:14:36.993Z"
   },
   {
    "duration": 16,
    "start_time": "2023-09-12T17:14:37.082Z"
   },
   {
    "duration": 4,
    "start_time": "2023-09-12T17:14:37.099Z"
   },
   {
    "duration": 1675,
    "start_time": "2023-09-13T06:43:44.769Z"
   },
   {
    "duration": 6,
    "start_time": "2023-09-13T06:43:49.163Z"
   },
   {
    "duration": 1073,
    "start_time": "2023-09-13T06:43:52.144Z"
   },
   {
    "duration": 1131,
    "start_time": "2023-09-13T06:44:26.392Z"
   },
   {
    "duration": 999,
    "start_time": "2023-09-13T06:44:46.808Z"
   },
   {
    "duration": 1493,
    "start_time": "2023-09-13T06:52:22.764Z"
   },
   {
    "duration": 7,
    "start_time": "2023-09-13T06:52:24.259Z"
   },
   {
    "duration": 923,
    "start_time": "2023-09-13T06:52:24.268Z"
   },
   {
    "duration": 6,
    "start_time": "2023-09-13T06:52:25.193Z"
   },
   {
    "duration": 15,
    "start_time": "2023-09-13T06:52:25.201Z"
   },
   {
    "duration": 10,
    "start_time": "2023-09-13T06:52:25.218Z"
   },
   {
    "duration": 6,
    "start_time": "2023-09-13T06:52:25.245Z"
   },
   {
    "duration": 14,
    "start_time": "2023-09-13T06:52:25.253Z"
   },
   {
    "duration": 25,
    "start_time": "2023-09-13T06:52:25.269Z"
   },
   {
    "duration": 26,
    "start_time": "2023-09-13T06:52:25.295Z"
   },
   {
    "duration": 120,
    "start_time": "2023-09-13T06:52:25.325Z"
   },
   {
    "duration": 6,
    "start_time": "2023-09-13T06:52:25.447Z"
   },
   {
    "duration": 24,
    "start_time": "2023-09-13T06:52:25.455Z"
   },
   {
    "duration": 5,
    "start_time": "2023-09-13T06:52:25.482Z"
   }
  ],
  "kernelspec": {
   "display_name": "Python 3 (ipykernel)",
   "language": "python",
   "name": "python3"
  },
  "language_info": {
   "codemirror_mode": {
    "name": "ipython",
    "version": 3
   },
   "file_extension": ".py",
   "mimetype": "text/x-python",
   "name": "python",
   "nbconvert_exporter": "python",
   "pygments_lexer": "ipython3",
   "version": "3.9.13"
  },
  "toc": {
   "base_numbering": 1,
   "nav_menu": {},
   "number_sections": true,
   "sideBar": true,
   "skip_h1_title": true,
   "title_cell": "Содержание",
   "title_sidebar": "Contents",
   "toc_cell": true,
   "toc_position": {
    "height": "1600px",
    "left": "64px",
    "top": "143.781px",
    "width": "212px"
   },
   "toc_section_display": true,
   "toc_window_display": true
  }
 },
 "nbformat": 4,
 "nbformat_minor": 2
}
